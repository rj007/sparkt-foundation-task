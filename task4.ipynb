{
 "cells": [
  {
   "cell_type": "markdown",
   "id": "wicked-spanish",
   "metadata": {},
   "source": [
    "# Exploratory Data Analysis - Terrorism"
   ]
  },
  {
   "cell_type": "markdown",
   "id": "boring-preservation",
   "metadata": {},
   "source": [
    "# Perform ‘Exploratory Data Analysis’ on dataset ‘Global Terrorism’"
   ]
  },
  {
   "cell_type": "code",
   "execution_count": 1,
   "id": "professional-aside",
   "metadata": {},
   "outputs": [],
   "source": [
    "#importing the libraries\n",
    "import numpy as np\n",
    "import pandas as pd\n",
    "import matplotlib.pyplot as plt\n",
    "import seaborn as sns\n",
    "%matplotlib inline\n",
    "import warnings\n",
    "warnings.filterwarnings('ignore')\n"
   ]
  },
  {
   "cell_type": "code",
   "execution_count": 2,
   "id": "incredible-landscape",
   "metadata": {},
   "outputs": [],
   "source": [
    "#importing the data\n",
    "data = pd.read_csv('globalterrorismdb_0718dist.csv',engine='python')\n"
   ]
  },
  {
   "cell_type": "code",
   "execution_count": 3,
   "id": "contained-indie",
   "metadata": {},
   "outputs": [
    {
     "data": {
      "text/html": [
       "<div>\n",
       "<style scoped>\n",
       "    .dataframe tbody tr th:only-of-type {\n",
       "        vertical-align: middle;\n",
       "    }\n",
       "\n",
       "    .dataframe tbody tr th {\n",
       "        vertical-align: top;\n",
       "    }\n",
       "\n",
       "    .dataframe thead th {\n",
       "        text-align: right;\n",
       "    }\n",
       "</style>\n",
       "<table border=\"1\" class=\"dataframe\">\n",
       "  <thead>\n",
       "    <tr style=\"text-align: right;\">\n",
       "      <th></th>\n",
       "      <th>eventid</th>\n",
       "      <th>iyear</th>\n",
       "      <th>imonth</th>\n",
       "      <th>iday</th>\n",
       "      <th>approxdate</th>\n",
       "      <th>extended</th>\n",
       "      <th>resolution</th>\n",
       "      <th>country</th>\n",
       "      <th>country_txt</th>\n",
       "      <th>region</th>\n",
       "      <th>...</th>\n",
       "      <th>addnotes</th>\n",
       "      <th>scite1</th>\n",
       "      <th>scite2</th>\n",
       "      <th>scite3</th>\n",
       "      <th>dbsource</th>\n",
       "      <th>INT_LOG</th>\n",
       "      <th>INT_IDEO</th>\n",
       "      <th>INT_MISC</th>\n",
       "      <th>INT_ANY</th>\n",
       "      <th>related</th>\n",
       "    </tr>\n",
       "  </thead>\n",
       "  <tbody>\n",
       "    <tr>\n",
       "      <th>0</th>\n",
       "      <td>197000000001</td>\n",
       "      <td>1970</td>\n",
       "      <td>7</td>\n",
       "      <td>2</td>\n",
       "      <td>NaN</td>\n",
       "      <td>0</td>\n",
       "      <td>NaN</td>\n",
       "      <td>58</td>\n",
       "      <td>Dominican Republic</td>\n",
       "      <td>2</td>\n",
       "      <td>...</td>\n",
       "      <td>NaN</td>\n",
       "      <td>NaN</td>\n",
       "      <td>NaN</td>\n",
       "      <td>NaN</td>\n",
       "      <td>PGIS</td>\n",
       "      <td>0</td>\n",
       "      <td>0</td>\n",
       "      <td>0</td>\n",
       "      <td>0</td>\n",
       "      <td>NaN</td>\n",
       "    </tr>\n",
       "    <tr>\n",
       "      <th>1</th>\n",
       "      <td>197000000002</td>\n",
       "      <td>1970</td>\n",
       "      <td>0</td>\n",
       "      <td>0</td>\n",
       "      <td>NaN</td>\n",
       "      <td>0</td>\n",
       "      <td>NaN</td>\n",
       "      <td>130</td>\n",
       "      <td>Mexico</td>\n",
       "      <td>1</td>\n",
       "      <td>...</td>\n",
       "      <td>NaN</td>\n",
       "      <td>NaN</td>\n",
       "      <td>NaN</td>\n",
       "      <td>NaN</td>\n",
       "      <td>PGIS</td>\n",
       "      <td>0</td>\n",
       "      <td>1</td>\n",
       "      <td>1</td>\n",
       "      <td>1</td>\n",
       "      <td>NaN</td>\n",
       "    </tr>\n",
       "    <tr>\n",
       "      <th>2</th>\n",
       "      <td>197001000001</td>\n",
       "      <td>1970</td>\n",
       "      <td>1</td>\n",
       "      <td>0</td>\n",
       "      <td>NaN</td>\n",
       "      <td>0</td>\n",
       "      <td>NaN</td>\n",
       "      <td>160</td>\n",
       "      <td>Philippines</td>\n",
       "      <td>5</td>\n",
       "      <td>...</td>\n",
       "      <td>NaN</td>\n",
       "      <td>NaN</td>\n",
       "      <td>NaN</td>\n",
       "      <td>NaN</td>\n",
       "      <td>PGIS</td>\n",
       "      <td>-9</td>\n",
       "      <td>-9</td>\n",
       "      <td>1</td>\n",
       "      <td>1</td>\n",
       "      <td>NaN</td>\n",
       "    </tr>\n",
       "    <tr>\n",
       "      <th>3</th>\n",
       "      <td>197001000002</td>\n",
       "      <td>1970</td>\n",
       "      <td>1</td>\n",
       "      <td>0</td>\n",
       "      <td>NaN</td>\n",
       "      <td>0</td>\n",
       "      <td>NaN</td>\n",
       "      <td>78</td>\n",
       "      <td>Greece</td>\n",
       "      <td>8</td>\n",
       "      <td>...</td>\n",
       "      <td>NaN</td>\n",
       "      <td>NaN</td>\n",
       "      <td>NaN</td>\n",
       "      <td>NaN</td>\n",
       "      <td>PGIS</td>\n",
       "      <td>-9</td>\n",
       "      <td>-9</td>\n",
       "      <td>1</td>\n",
       "      <td>1</td>\n",
       "      <td>NaN</td>\n",
       "    </tr>\n",
       "    <tr>\n",
       "      <th>4</th>\n",
       "      <td>197001000003</td>\n",
       "      <td>1970</td>\n",
       "      <td>1</td>\n",
       "      <td>0</td>\n",
       "      <td>NaN</td>\n",
       "      <td>0</td>\n",
       "      <td>NaN</td>\n",
       "      <td>101</td>\n",
       "      <td>Japan</td>\n",
       "      <td>4</td>\n",
       "      <td>...</td>\n",
       "      <td>NaN</td>\n",
       "      <td>NaN</td>\n",
       "      <td>NaN</td>\n",
       "      <td>NaN</td>\n",
       "      <td>PGIS</td>\n",
       "      <td>-9</td>\n",
       "      <td>-9</td>\n",
       "      <td>1</td>\n",
       "      <td>1</td>\n",
       "      <td>NaN</td>\n",
       "    </tr>\n",
       "  </tbody>\n",
       "</table>\n",
       "<p>5 rows × 135 columns</p>\n",
       "</div>"
      ],
      "text/plain": [
       "        eventid  iyear  imonth  iday approxdate  extended resolution  country  \\\n",
       "0  197000000001   1970       7     2        NaN         0        NaN       58   \n",
       "1  197000000002   1970       0     0        NaN         0        NaN      130   \n",
       "2  197001000001   1970       1     0        NaN         0        NaN      160   \n",
       "3  197001000002   1970       1     0        NaN         0        NaN       78   \n",
       "4  197001000003   1970       1     0        NaN         0        NaN      101   \n",
       "\n",
       "          country_txt  region  ... addnotes scite1 scite2  scite3  dbsource  \\\n",
       "0  Dominican Republic       2  ...      NaN    NaN    NaN     NaN      PGIS   \n",
       "1              Mexico       1  ...      NaN    NaN    NaN     NaN      PGIS   \n",
       "2         Philippines       5  ...      NaN    NaN    NaN     NaN      PGIS   \n",
       "3              Greece       8  ...      NaN    NaN    NaN     NaN      PGIS   \n",
       "4               Japan       4  ...      NaN    NaN    NaN     NaN      PGIS   \n",
       "\n",
       "   INT_LOG  INT_IDEO INT_MISC INT_ANY  related  \n",
       "0        0         0        0       0      NaN  \n",
       "1        0         1        1       1      NaN  \n",
       "2       -9        -9        1       1      NaN  \n",
       "3       -9        -9        1       1      NaN  \n",
       "4       -9        -9        1       1      NaN  \n",
       "\n",
       "[5 rows x 135 columns]"
      ]
     },
     "execution_count": 3,
     "metadata": {},
     "output_type": "execute_result"
    }
   ],
   "source": [
    "data.head()"
   ]
  },
  {
   "cell_type": "code",
   "execution_count": 4,
   "id": "focused-catalog",
   "metadata": {},
   "outputs": [
    {
     "data": {
      "text/plain": [
       "(181691, 135)"
      ]
     },
     "execution_count": 4,
     "metadata": {},
     "output_type": "execute_result"
    }
   ],
   "source": [
    "data.shape"
   ]
  },
  {
   "cell_type": "code",
   "execution_count": 5,
   "id": "blond-moore",
   "metadata": {},
   "outputs": [
    {
     "data": {
      "text/plain": [
       "array(['eventid', 'iyear', 'imonth', 'iday', 'approxdate', 'extended',\n",
       "       'resolution', 'country', 'country_txt', 'region', 'region_txt',\n",
       "       'provstate', 'city', 'latitude', 'longitude', 'specificity',\n",
       "       'vicinity', 'location', 'summary', 'crit1', 'crit2', 'crit3',\n",
       "       'doubtterr', 'alternative', 'alternative_txt', 'multiple',\n",
       "       'success', 'suicide', 'attacktype1', 'attacktype1_txt',\n",
       "       'attacktype2', 'attacktype2_txt', 'attacktype3', 'attacktype3_txt',\n",
       "       'targtype1', 'targtype1_txt', 'targsubtype1', 'targsubtype1_txt',\n",
       "       'corp1', 'target1', 'natlty1', 'natlty1_txt', 'targtype2',\n",
       "       'targtype2_txt', 'targsubtype2', 'targsubtype2_txt', 'corp2',\n",
       "       'target2', 'natlty2', 'natlty2_txt', 'targtype3', 'targtype3_txt',\n",
       "       'targsubtype3', 'targsubtype3_txt', 'corp3', 'target3', 'natlty3',\n",
       "       'natlty3_txt', 'gname', 'gsubname', 'gname2', 'gsubname2',\n",
       "       'gname3', 'gsubname3', 'motive', 'guncertain1', 'guncertain2',\n",
       "       'guncertain3', 'individual', 'nperps', 'nperpcap', 'claimed',\n",
       "       'claimmode', 'claimmode_txt', 'claim2', 'claimmode2',\n",
       "       'claimmode2_txt', 'claim3', 'claimmode3', 'claimmode3_txt',\n",
       "       'compclaim', 'weaptype1', 'weaptype1_txt', 'weapsubtype1',\n",
       "       'weapsubtype1_txt', 'weaptype2', 'weaptype2_txt', 'weapsubtype2',\n",
       "       'weapsubtype2_txt', 'weaptype3', 'weaptype3_txt', 'weapsubtype3',\n",
       "       'weapsubtype3_txt', 'weaptype4', 'weaptype4_txt', 'weapsubtype4',\n",
       "       'weapsubtype4_txt', 'weapdetail', 'nkill', 'nkillus', 'nkillter',\n",
       "       'nwound', 'nwoundus', 'nwoundte', 'property', 'propextent',\n",
       "       'propextent_txt', 'propvalue', 'propcomment', 'ishostkid',\n",
       "       'nhostkid', 'nhostkidus', 'nhours', 'ndays', 'divert',\n",
       "       'kidhijcountry', 'ransom', 'ransomamt', 'ransomamtus',\n",
       "       'ransompaid', 'ransompaidus', 'ransomnote', 'hostkidoutcome',\n",
       "       'hostkidoutcome_txt', 'nreleased', 'addnotes', 'scite1', 'scite2',\n",
       "       'scite3', 'dbsource', 'INT_LOG', 'INT_IDEO', 'INT_MISC', 'INT_ANY',\n",
       "       'related'], dtype=object)"
      ]
     },
     "execution_count": 5,
     "metadata": {},
     "output_type": "execute_result"
    }
   ],
   "source": [
    "data.columns.values"
   ]
  },
  {
   "cell_type": "code",
   "execution_count": 6,
   "id": "radical-artwork",
   "metadata": {},
   "outputs": [],
   "source": [
    "#renaming the columns\n",
    "\n",
    "data.rename(columns={'iyear':'Year','imonth':'Month','extended':'Extended','iday':'Day','country_txt':'Country_Name','provstate':'State','region_txt':'Region','attacktype1_txt':'AttackType','target1':'Target',\n",
    "           'nkill':'Killed','nwound':'Wounded','summary':'Summary','gname':'Group','targetupe1_txt':'Target_type','weaptype1_txt':'Weapon_type','motive':'Motive','city':'City','latitude':'Latitude','longitude':'Longitude'},inplace=True)"
   ]
  },
  {
   "cell_type": "code",
   "execution_count": 7,
   "id": "sitting-sheet",
   "metadata": {},
   "outputs": [
    {
     "data": {
      "text/html": [
       "<div>\n",
       "<style scoped>\n",
       "    .dataframe tbody tr th:only-of-type {\n",
       "        vertical-align: middle;\n",
       "    }\n",
       "\n",
       "    .dataframe tbody tr th {\n",
       "        vertical-align: top;\n",
       "    }\n",
       "\n",
       "    .dataframe thead th {\n",
       "        text-align: right;\n",
       "    }\n",
       "</style>\n",
       "<table border=\"1\" class=\"dataframe\">\n",
       "  <thead>\n",
       "    <tr style=\"text-align: right;\">\n",
       "      <th></th>\n",
       "      <th>eventid</th>\n",
       "      <th>Year</th>\n",
       "      <th>Month</th>\n",
       "      <th>Day</th>\n",
       "      <th>approxdate</th>\n",
       "      <th>Extended</th>\n",
       "      <th>resolution</th>\n",
       "      <th>country</th>\n",
       "      <th>Country_Name</th>\n",
       "      <th>region</th>\n",
       "      <th>...</th>\n",
       "      <th>addnotes</th>\n",
       "      <th>scite1</th>\n",
       "      <th>scite2</th>\n",
       "      <th>scite3</th>\n",
       "      <th>dbsource</th>\n",
       "      <th>INT_LOG</th>\n",
       "      <th>INT_IDEO</th>\n",
       "      <th>INT_MISC</th>\n",
       "      <th>INT_ANY</th>\n",
       "      <th>related</th>\n",
       "    </tr>\n",
       "  </thead>\n",
       "  <tbody>\n",
       "    <tr>\n",
       "      <th>0</th>\n",
       "      <td>197000000001</td>\n",
       "      <td>1970</td>\n",
       "      <td>7</td>\n",
       "      <td>2</td>\n",
       "      <td>NaN</td>\n",
       "      <td>0</td>\n",
       "      <td>NaN</td>\n",
       "      <td>58</td>\n",
       "      <td>Dominican Republic</td>\n",
       "      <td>2</td>\n",
       "      <td>...</td>\n",
       "      <td>NaN</td>\n",
       "      <td>NaN</td>\n",
       "      <td>NaN</td>\n",
       "      <td>NaN</td>\n",
       "      <td>PGIS</td>\n",
       "      <td>0</td>\n",
       "      <td>0</td>\n",
       "      <td>0</td>\n",
       "      <td>0</td>\n",
       "      <td>NaN</td>\n",
       "    </tr>\n",
       "    <tr>\n",
       "      <th>1</th>\n",
       "      <td>197000000002</td>\n",
       "      <td>1970</td>\n",
       "      <td>0</td>\n",
       "      <td>0</td>\n",
       "      <td>NaN</td>\n",
       "      <td>0</td>\n",
       "      <td>NaN</td>\n",
       "      <td>130</td>\n",
       "      <td>Mexico</td>\n",
       "      <td>1</td>\n",
       "      <td>...</td>\n",
       "      <td>NaN</td>\n",
       "      <td>NaN</td>\n",
       "      <td>NaN</td>\n",
       "      <td>NaN</td>\n",
       "      <td>PGIS</td>\n",
       "      <td>0</td>\n",
       "      <td>1</td>\n",
       "      <td>1</td>\n",
       "      <td>1</td>\n",
       "      <td>NaN</td>\n",
       "    </tr>\n",
       "    <tr>\n",
       "      <th>2</th>\n",
       "      <td>197001000001</td>\n",
       "      <td>1970</td>\n",
       "      <td>1</td>\n",
       "      <td>0</td>\n",
       "      <td>NaN</td>\n",
       "      <td>0</td>\n",
       "      <td>NaN</td>\n",
       "      <td>160</td>\n",
       "      <td>Philippines</td>\n",
       "      <td>5</td>\n",
       "      <td>...</td>\n",
       "      <td>NaN</td>\n",
       "      <td>NaN</td>\n",
       "      <td>NaN</td>\n",
       "      <td>NaN</td>\n",
       "      <td>PGIS</td>\n",
       "      <td>-9</td>\n",
       "      <td>-9</td>\n",
       "      <td>1</td>\n",
       "      <td>1</td>\n",
       "      <td>NaN</td>\n",
       "    </tr>\n",
       "    <tr>\n",
       "      <th>3</th>\n",
       "      <td>197001000002</td>\n",
       "      <td>1970</td>\n",
       "      <td>1</td>\n",
       "      <td>0</td>\n",
       "      <td>NaN</td>\n",
       "      <td>0</td>\n",
       "      <td>NaN</td>\n",
       "      <td>78</td>\n",
       "      <td>Greece</td>\n",
       "      <td>8</td>\n",
       "      <td>...</td>\n",
       "      <td>NaN</td>\n",
       "      <td>NaN</td>\n",
       "      <td>NaN</td>\n",
       "      <td>NaN</td>\n",
       "      <td>PGIS</td>\n",
       "      <td>-9</td>\n",
       "      <td>-9</td>\n",
       "      <td>1</td>\n",
       "      <td>1</td>\n",
       "      <td>NaN</td>\n",
       "    </tr>\n",
       "    <tr>\n",
       "      <th>4</th>\n",
       "      <td>197001000003</td>\n",
       "      <td>1970</td>\n",
       "      <td>1</td>\n",
       "      <td>0</td>\n",
       "      <td>NaN</td>\n",
       "      <td>0</td>\n",
       "      <td>NaN</td>\n",
       "      <td>101</td>\n",
       "      <td>Japan</td>\n",
       "      <td>4</td>\n",
       "      <td>...</td>\n",
       "      <td>NaN</td>\n",
       "      <td>NaN</td>\n",
       "      <td>NaN</td>\n",
       "      <td>NaN</td>\n",
       "      <td>PGIS</td>\n",
       "      <td>-9</td>\n",
       "      <td>-9</td>\n",
       "      <td>1</td>\n",
       "      <td>1</td>\n",
       "      <td>NaN</td>\n",
       "    </tr>\n",
       "  </tbody>\n",
       "</table>\n",
       "<p>5 rows × 135 columns</p>\n",
       "</div>"
      ],
      "text/plain": [
       "        eventid  Year  Month  Day approxdate  Extended resolution  country  \\\n",
       "0  197000000001  1970      7    2        NaN         0        NaN       58   \n",
       "1  197000000002  1970      0    0        NaN         0        NaN      130   \n",
       "2  197001000001  1970      1    0        NaN         0        NaN      160   \n",
       "3  197001000002  1970      1    0        NaN         0        NaN       78   \n",
       "4  197001000003  1970      1    0        NaN         0        NaN      101   \n",
       "\n",
       "         Country_Name  region  ... addnotes scite1 scite2  scite3  dbsource  \\\n",
       "0  Dominican Republic       2  ...      NaN    NaN    NaN     NaN      PGIS   \n",
       "1              Mexico       1  ...      NaN    NaN    NaN     NaN      PGIS   \n",
       "2         Philippines       5  ...      NaN    NaN    NaN     NaN      PGIS   \n",
       "3              Greece       8  ...      NaN    NaN    NaN     NaN      PGIS   \n",
       "4               Japan       4  ...      NaN    NaN    NaN     NaN      PGIS   \n",
       "\n",
       "   INT_LOG  INT_IDEO INT_MISC INT_ANY  related  \n",
       "0        0         0        0       0      NaN  \n",
       "1        0         1        1       1      NaN  \n",
       "2       -9        -9        1       1      NaN  \n",
       "3       -9        -9        1       1      NaN  \n",
       "4       -9        -9        1       1      NaN  \n",
       "\n",
       "[5 rows x 135 columns]"
      ]
     },
     "execution_count": 7,
     "metadata": {},
     "output_type": "execute_result"
    }
   ],
   "source": [
    "data.head()"
   ]
  },
  {
   "cell_type": "code",
   "execution_count": 11,
   "id": "romantic-palace",
   "metadata": {},
   "outputs": [],
   "source": [
    "#using necessary columns for data analysis and deleting the rest \n",
    "data = data[['Year','Month','Extended','Day','Country_Name','State','Region','City','Latitude','Longitude','AttackType','Killed','Wounded','Target','Summary','Group','Weapon_type','Motive']]"
   ]
  },
  {
   "cell_type": "code",
   "execution_count": 12,
   "id": "documented-lexington",
   "metadata": {},
   "outputs": [
    {
     "data": {
      "text/html": [
       "<div>\n",
       "<style scoped>\n",
       "    .dataframe tbody tr th:only-of-type {\n",
       "        vertical-align: middle;\n",
       "    }\n",
       "\n",
       "    .dataframe tbody tr th {\n",
       "        vertical-align: top;\n",
       "    }\n",
       "\n",
       "    .dataframe thead th {\n",
       "        text-align: right;\n",
       "    }\n",
       "</style>\n",
       "<table border=\"1\" class=\"dataframe\">\n",
       "  <thead>\n",
       "    <tr style=\"text-align: right;\">\n",
       "      <th></th>\n",
       "      <th>Year</th>\n",
       "      <th>Month</th>\n",
       "      <th>Extended</th>\n",
       "      <th>Day</th>\n",
       "      <th>Country_Name</th>\n",
       "      <th>State</th>\n",
       "      <th>Region</th>\n",
       "      <th>City</th>\n",
       "      <th>Latitude</th>\n",
       "      <th>Longitude</th>\n",
       "      <th>AttackType</th>\n",
       "      <th>Killed</th>\n",
       "      <th>Wounded</th>\n",
       "      <th>Target</th>\n",
       "      <th>Summary</th>\n",
       "      <th>Group</th>\n",
       "      <th>Weapon_type</th>\n",
       "      <th>Motive</th>\n",
       "    </tr>\n",
       "  </thead>\n",
       "  <tbody>\n",
       "    <tr>\n",
       "      <th>0</th>\n",
       "      <td>1970</td>\n",
       "      <td>7</td>\n",
       "      <td>0</td>\n",
       "      <td>2</td>\n",
       "      <td>Dominican Republic</td>\n",
       "      <td>NaN</td>\n",
       "      <td>Central America &amp; Caribbean</td>\n",
       "      <td>Santo Domingo</td>\n",
       "      <td>18.456792</td>\n",
       "      <td>-69.951164</td>\n",
       "      <td>Assassination</td>\n",
       "      <td>1.0</td>\n",
       "      <td>0.0</td>\n",
       "      <td>Julio Guzman</td>\n",
       "      <td>NaN</td>\n",
       "      <td>MANO-D</td>\n",
       "      <td>Unknown</td>\n",
       "      <td>NaN</td>\n",
       "    </tr>\n",
       "    <tr>\n",
       "      <th>1</th>\n",
       "      <td>1970</td>\n",
       "      <td>0</td>\n",
       "      <td>0</td>\n",
       "      <td>0</td>\n",
       "      <td>Mexico</td>\n",
       "      <td>Federal</td>\n",
       "      <td>North America</td>\n",
       "      <td>Mexico city</td>\n",
       "      <td>19.371887</td>\n",
       "      <td>-99.086624</td>\n",
       "      <td>Hostage Taking (Kidnapping)</td>\n",
       "      <td>0.0</td>\n",
       "      <td>0.0</td>\n",
       "      <td>Nadine Chaval, daughter</td>\n",
       "      <td>NaN</td>\n",
       "      <td>23rd of September Communist League</td>\n",
       "      <td>Unknown</td>\n",
       "      <td>NaN</td>\n",
       "    </tr>\n",
       "    <tr>\n",
       "      <th>2</th>\n",
       "      <td>1970</td>\n",
       "      <td>1</td>\n",
       "      <td>0</td>\n",
       "      <td>0</td>\n",
       "      <td>Philippines</td>\n",
       "      <td>Tarlac</td>\n",
       "      <td>Southeast Asia</td>\n",
       "      <td>Unknown</td>\n",
       "      <td>15.478598</td>\n",
       "      <td>120.599741</td>\n",
       "      <td>Assassination</td>\n",
       "      <td>1.0</td>\n",
       "      <td>0.0</td>\n",
       "      <td>Employee</td>\n",
       "      <td>NaN</td>\n",
       "      <td>Unknown</td>\n",
       "      <td>Unknown</td>\n",
       "      <td>NaN</td>\n",
       "    </tr>\n",
       "    <tr>\n",
       "      <th>3</th>\n",
       "      <td>1970</td>\n",
       "      <td>1</td>\n",
       "      <td>0</td>\n",
       "      <td>0</td>\n",
       "      <td>Greece</td>\n",
       "      <td>Attica</td>\n",
       "      <td>Western Europe</td>\n",
       "      <td>Athens</td>\n",
       "      <td>37.997490</td>\n",
       "      <td>23.762728</td>\n",
       "      <td>Bombing/Explosion</td>\n",
       "      <td>NaN</td>\n",
       "      <td>NaN</td>\n",
       "      <td>U.S. Embassy</td>\n",
       "      <td>NaN</td>\n",
       "      <td>Unknown</td>\n",
       "      <td>Explosives</td>\n",
       "      <td>NaN</td>\n",
       "    </tr>\n",
       "    <tr>\n",
       "      <th>4</th>\n",
       "      <td>1970</td>\n",
       "      <td>1</td>\n",
       "      <td>0</td>\n",
       "      <td>0</td>\n",
       "      <td>Japan</td>\n",
       "      <td>Fukouka</td>\n",
       "      <td>East Asia</td>\n",
       "      <td>Fukouka</td>\n",
       "      <td>33.580412</td>\n",
       "      <td>130.396361</td>\n",
       "      <td>Facility/Infrastructure Attack</td>\n",
       "      <td>NaN</td>\n",
       "      <td>NaN</td>\n",
       "      <td>U.S. Consulate</td>\n",
       "      <td>NaN</td>\n",
       "      <td>Unknown</td>\n",
       "      <td>Incendiary</td>\n",
       "      <td>NaN</td>\n",
       "    </tr>\n",
       "  </tbody>\n",
       "</table>\n",
       "</div>"
      ],
      "text/plain": [
       "   Year  Month  Extended  Day        Country_Name    State  \\\n",
       "0  1970      7         0    2  Dominican Republic      NaN   \n",
       "1  1970      0         0    0              Mexico  Federal   \n",
       "2  1970      1         0    0         Philippines   Tarlac   \n",
       "3  1970      1         0    0              Greece   Attica   \n",
       "4  1970      1         0    0               Japan  Fukouka   \n",
       "\n",
       "                        Region           City   Latitude   Longitude  \\\n",
       "0  Central America & Caribbean  Santo Domingo  18.456792  -69.951164   \n",
       "1                North America    Mexico city  19.371887  -99.086624   \n",
       "2               Southeast Asia        Unknown  15.478598  120.599741   \n",
       "3               Western Europe         Athens  37.997490   23.762728   \n",
       "4                    East Asia        Fukouka  33.580412  130.396361   \n",
       "\n",
       "                       AttackType  Killed  Wounded                   Target  \\\n",
       "0                   Assassination     1.0      0.0             Julio Guzman   \n",
       "1     Hostage Taking (Kidnapping)     0.0      0.0  Nadine Chaval, daughter   \n",
       "2                   Assassination     1.0      0.0                 Employee   \n",
       "3               Bombing/Explosion     NaN      NaN             U.S. Embassy   \n",
       "4  Facility/Infrastructure Attack     NaN      NaN           U.S. Consulate   \n",
       "\n",
       "  Summary                               Group Weapon_type Motive  \n",
       "0     NaN                              MANO-D     Unknown    NaN  \n",
       "1     NaN  23rd of September Communist League     Unknown    NaN  \n",
       "2     NaN                             Unknown     Unknown    NaN  \n",
       "3     NaN                             Unknown  Explosives    NaN  \n",
       "4     NaN                             Unknown  Incendiary    NaN  "
      ]
     },
     "execution_count": 12,
     "metadata": {},
     "output_type": "execute_result"
    }
   ],
   "source": [
    "data.head()"
   ]
  },
  {
   "cell_type": "code",
   "execution_count": 17,
   "id": "manufactured-square",
   "metadata": {},
   "outputs": [
    {
     "data": {
      "text/html": [
       "<div>\n",
       "<style scoped>\n",
       "    .dataframe tbody tr th:only-of-type {\n",
       "        vertical-align: middle;\n",
       "    }\n",
       "\n",
       "    .dataframe tbody tr th {\n",
       "        vertical-align: top;\n",
       "    }\n",
       "\n",
       "    .dataframe thead th {\n",
       "        text-align: right;\n",
       "    }\n",
       "</style>\n",
       "<table border=\"1\" class=\"dataframe\">\n",
       "  <thead>\n",
       "    <tr style=\"text-align: right;\">\n",
       "      <th></th>\n",
       "      <th>year</th>\n",
       "      <th>month</th>\n",
       "      <th>day</th>\n",
       "      <th>extended</th>\n",
       "      <th>country</th>\n",
       "      <th>region</th>\n",
       "      <th>city</th>\n",
       "      <th>success</th>\n",
       "      <th>suicide</th>\n",
       "      <th>wound</th>\n",
       "      <th>killed</th>\n",
       "      <th>target</th>\n",
       "      <th>group</th>\n",
       "      <th>weapon</th>\n",
       "    </tr>\n",
       "  </thead>\n",
       "  <tbody>\n",
       "    <tr>\n",
       "      <th>0</th>\n",
       "      <td>1970</td>\n",
       "      <td>7</td>\n",
       "      <td>2</td>\n",
       "      <td>0</td>\n",
       "      <td>Dominican Republic</td>\n",
       "      <td>Central America &amp; Caribbean</td>\n",
       "      <td>Santo Domingo</td>\n",
       "      <td>1</td>\n",
       "      <td>0</td>\n",
       "      <td>0.0</td>\n",
       "      <td>1.0</td>\n",
       "      <td>Private Citizens &amp; Property</td>\n",
       "      <td>MANO-D</td>\n",
       "      <td>Unknown</td>\n",
       "    </tr>\n",
       "    <tr>\n",
       "      <th>1</th>\n",
       "      <td>1970</td>\n",
       "      <td>0</td>\n",
       "      <td>0</td>\n",
       "      <td>0</td>\n",
       "      <td>Mexico</td>\n",
       "      <td>North America</td>\n",
       "      <td>Mexico city</td>\n",
       "      <td>1</td>\n",
       "      <td>0</td>\n",
       "      <td>0.0</td>\n",
       "      <td>0.0</td>\n",
       "      <td>Government (Diplomatic)</td>\n",
       "      <td>23rd of September Communist League</td>\n",
       "      <td>Unknown</td>\n",
       "    </tr>\n",
       "    <tr>\n",
       "      <th>2</th>\n",
       "      <td>1970</td>\n",
       "      <td>1</td>\n",
       "      <td>0</td>\n",
       "      <td>0</td>\n",
       "      <td>Philippines</td>\n",
       "      <td>Southeast Asia</td>\n",
       "      <td>Unknown</td>\n",
       "      <td>1</td>\n",
       "      <td>0</td>\n",
       "      <td>0.0</td>\n",
       "      <td>1.0</td>\n",
       "      <td>Journalists &amp; Media</td>\n",
       "      <td>Unknown</td>\n",
       "      <td>Unknown</td>\n",
       "    </tr>\n",
       "    <tr>\n",
       "      <th>5</th>\n",
       "      <td>1970</td>\n",
       "      <td>1</td>\n",
       "      <td>1</td>\n",
       "      <td>0</td>\n",
       "      <td>United States</td>\n",
       "      <td>North America</td>\n",
       "      <td>Cairo</td>\n",
       "      <td>1</td>\n",
       "      <td>0</td>\n",
       "      <td>0.0</td>\n",
       "      <td>0.0</td>\n",
       "      <td>Police</td>\n",
       "      <td>Black Nationalists</td>\n",
       "      <td>Firearms</td>\n",
       "    </tr>\n",
       "    <tr>\n",
       "      <th>6</th>\n",
       "      <td>1970</td>\n",
       "      <td>1</td>\n",
       "      <td>2</td>\n",
       "      <td>0</td>\n",
       "      <td>Uruguay</td>\n",
       "      <td>South America</td>\n",
       "      <td>Montevideo</td>\n",
       "      <td>0</td>\n",
       "      <td>0</td>\n",
       "      <td>0.0</td>\n",
       "      <td>0.0</td>\n",
       "      <td>Police</td>\n",
       "      <td>Tupamaros (Uruguay)</td>\n",
       "      <td>Firearms</td>\n",
       "    </tr>\n",
       "  </tbody>\n",
       "</table>\n",
       "</div>"
      ],
      "text/plain": [
       "   year  month  day  extended             country  \\\n",
       "0  1970      7    2         0  Dominican Republic   \n",
       "1  1970      0    0         0              Mexico   \n",
       "2  1970      1    0         0         Philippines   \n",
       "5  1970      1    1         0       United States   \n",
       "6  1970      1    2         0             Uruguay   \n",
       "\n",
       "                        region           city  success  suicide  wound  \\\n",
       "0  Central America & Caribbean  Santo Domingo        1        0    0.0   \n",
       "1                North America    Mexico city        1        0    0.0   \n",
       "2               Southeast Asia        Unknown        1        0    0.0   \n",
       "5                North America          Cairo        1        0    0.0   \n",
       "6                South America     Montevideo        0        0    0.0   \n",
       "\n",
       "   killed                       target                               group  \\\n",
       "0     1.0  Private Citizens & Property                              MANO-D   \n",
       "1     0.0      Government (Diplomatic)  23rd of September Communist League   \n",
       "2     1.0          Journalists & Media                             Unknown   \n",
       "5     0.0                       Police                  Black Nationalists   \n",
       "6     0.0                       Police                 Tupamaros (Uruguay)   \n",
       "\n",
       "     weapon  \n",
       "0   Unknown  \n",
       "1   Unknown  \n",
       "2   Unknown  \n",
       "5  Firearms  \n",
       "6  Firearms  "
      ]
     },
     "execution_count": 17,
     "metadata": {},
     "output_type": "execute_result"
    }
   ],
   "source": [
    "#Renaming columns\n",
    "data.rename(columns={'iyear':'year','imonth':'month','iday':'day','country_txt':'country','attacktyp1_txt':'attactype','region_txt':'region', 'nwound':'wound','nkill':'killed','targtype1_txt':'target','gname':'group','weaptype1_txt':'weapon'},inplace=True)\n",
    "data.head()"
   ]
  },
  {
   "cell_type": "code",
   "execution_count": 13,
   "id": "moderate-maryland",
   "metadata": {},
   "outputs": [
    {
     "data": {
      "text/plain": [
       "(181691, 18)"
      ]
     },
     "execution_count": 13,
     "metadata": {},
     "output_type": "execute_result"
    }
   ],
   "source": [
    "data.shape"
   ]
  },
  {
   "cell_type": "code",
   "execution_count": 14,
   "id": "urban-hypothesis",
   "metadata": {},
   "outputs": [
    {
     "name": "stdout",
     "output_type": "stream",
     "text": [
      "<class 'pandas.core.frame.DataFrame'>\n",
      "RangeIndex: 181691 entries, 0 to 181690\n",
      "Data columns (total 18 columns):\n",
      " #   Column        Non-Null Count   Dtype  \n",
      "---  ------        --------------   -----  \n",
      " 0   Year          181691 non-null  int64  \n",
      " 1   Month         181691 non-null  int64  \n",
      " 2   Extended      181691 non-null  int64  \n",
      " 3   Day           181691 non-null  int64  \n",
      " 4   Country_Name  181691 non-null  object \n",
      " 5   State         181270 non-null  object \n",
      " 6   Region        181691 non-null  object \n",
      " 7   City          181257 non-null  object \n",
      " 8   Latitude      177135 non-null  float64\n",
      " 9   Longitude     177134 non-null  float64\n",
      " 10  AttackType    181691 non-null  object \n",
      " 11  Killed        171378 non-null  float64\n",
      " 12  Wounded       165380 non-null  float64\n",
      " 13  Target        181055 non-null  object \n",
      " 14  Summary       115562 non-null  object \n",
      " 15  Group         181691 non-null  object \n",
      " 16  Weapon_type   181691 non-null  object \n",
      " 17  Motive        50561 non-null   object \n",
      "dtypes: float64(4), int64(4), object(10)\n",
      "memory usage: 25.0+ MB\n"
     ]
    }
   ],
   "source": [
    "data.info()"
   ]
  },
  {
   "cell_type": "code",
   "execution_count": 15,
   "id": "built-florida",
   "metadata": {},
   "outputs": [
    {
     "data": {
      "text/plain": [
       "Year                 0\n",
       "Month                0\n",
       "Extended             0\n",
       "Day                  0\n",
       "Country_Name         0\n",
       "State              421\n",
       "Region               0\n",
       "City               434\n",
       "Latitude          4556\n",
       "Longitude         4557\n",
       "AttackType           0\n",
       "Killed           10313\n",
       "Wounded          16311\n",
       "Target             636\n",
       "Summary          66129\n",
       "Group                0\n",
       "Weapon_type          0\n",
       "Motive          131130\n",
       "dtype: int64"
      ]
     },
     "execution_count": 15,
     "metadata": {},
     "output_type": "execute_result"
    }
   ],
   "source": [
    "#checking for null values\n",
    "data.isnull().sum()"
   ]
  },
  {
   "cell_type": "code",
   "execution_count": 16,
   "id": "numerical-qualification",
   "metadata": {},
   "outputs": [],
   "source": [
    "data['Wounded']=data['Wounded'].fillna(0)\n",
    "#fillna to replace NaN valued with 0\n",
    "data['Killed']=data['Killed'].fillna(0)"
   ]
  },
  {
   "cell_type": "code",
   "execution_count": 18,
   "id": "surface-nightlife",
   "metadata": {},
   "outputs": [],
   "source": [
    "#creating new column casualties having data of killed and wounded\n",
    "data['Casualties']=data['Killed']+data['Wounded']"
   ]
  },
  {
   "cell_type": "code",
   "execution_count": 19,
   "id": "meaningful-reform",
   "metadata": {},
   "outputs": [
    {
     "data": {
      "text/html": [
       "<div>\n",
       "<style scoped>\n",
       "    .dataframe tbody tr th:only-of-type {\n",
       "        vertical-align: middle;\n",
       "    }\n",
       "\n",
       "    .dataframe tbody tr th {\n",
       "        vertical-align: top;\n",
       "    }\n",
       "\n",
       "    .dataframe thead th {\n",
       "        text-align: right;\n",
       "    }\n",
       "</style>\n",
       "<table border=\"1\" class=\"dataframe\">\n",
       "  <thead>\n",
       "    <tr style=\"text-align: right;\">\n",
       "      <th></th>\n",
       "      <th>Year</th>\n",
       "      <th>Month</th>\n",
       "      <th>Extended</th>\n",
       "      <th>Day</th>\n",
       "      <th>Latitude</th>\n",
       "      <th>Longitude</th>\n",
       "      <th>Killed</th>\n",
       "      <th>Wounded</th>\n",
       "      <th>Casualties</th>\n",
       "    </tr>\n",
       "  </thead>\n",
       "  <tbody>\n",
       "    <tr>\n",
       "      <th>count</th>\n",
       "      <td>181691.000000</td>\n",
       "      <td>181691.000000</td>\n",
       "      <td>181691.000000</td>\n",
       "      <td>181691.000000</td>\n",
       "      <td>177135.000000</td>\n",
       "      <td>1.771340e+05</td>\n",
       "      <td>181691.000000</td>\n",
       "      <td>181691.000000</td>\n",
       "      <td>181691.000000</td>\n",
       "    </tr>\n",
       "    <tr>\n",
       "      <th>mean</th>\n",
       "      <td>2002.638997</td>\n",
       "      <td>6.467277</td>\n",
       "      <td>0.045346</td>\n",
       "      <td>15.505644</td>\n",
       "      <td>23.498343</td>\n",
       "      <td>-4.586957e+02</td>\n",
       "      <td>2.266860</td>\n",
       "      <td>2.883296</td>\n",
       "      <td>5.150156</td>\n",
       "    </tr>\n",
       "    <tr>\n",
       "      <th>std</th>\n",
       "      <td>13.259430</td>\n",
       "      <td>3.388303</td>\n",
       "      <td>0.208063</td>\n",
       "      <td>8.814045</td>\n",
       "      <td>18.569242</td>\n",
       "      <td>2.047790e+05</td>\n",
       "      <td>11.227057</td>\n",
       "      <td>34.309747</td>\n",
       "      <td>40.555416</td>\n",
       "    </tr>\n",
       "    <tr>\n",
       "      <th>min</th>\n",
       "      <td>1970.000000</td>\n",
       "      <td>0.000000</td>\n",
       "      <td>0.000000</td>\n",
       "      <td>0.000000</td>\n",
       "      <td>-53.154613</td>\n",
       "      <td>-8.618590e+07</td>\n",
       "      <td>0.000000</td>\n",
       "      <td>0.000000</td>\n",
       "      <td>0.000000</td>\n",
       "    </tr>\n",
       "    <tr>\n",
       "      <th>25%</th>\n",
       "      <td>1991.000000</td>\n",
       "      <td>4.000000</td>\n",
       "      <td>0.000000</td>\n",
       "      <td>8.000000</td>\n",
       "      <td>11.510046</td>\n",
       "      <td>4.545640e+00</td>\n",
       "      <td>0.000000</td>\n",
       "      <td>0.000000</td>\n",
       "      <td>0.000000</td>\n",
       "    </tr>\n",
       "    <tr>\n",
       "      <th>50%</th>\n",
       "      <td>2009.000000</td>\n",
       "      <td>6.000000</td>\n",
       "      <td>0.000000</td>\n",
       "      <td>15.000000</td>\n",
       "      <td>31.467463</td>\n",
       "      <td>4.324651e+01</td>\n",
       "      <td>0.000000</td>\n",
       "      <td>0.000000</td>\n",
       "      <td>1.000000</td>\n",
       "    </tr>\n",
       "    <tr>\n",
       "      <th>75%</th>\n",
       "      <td>2014.000000</td>\n",
       "      <td>9.000000</td>\n",
       "      <td>0.000000</td>\n",
       "      <td>23.000000</td>\n",
       "      <td>34.685087</td>\n",
       "      <td>6.871033e+01</td>\n",
       "      <td>2.000000</td>\n",
       "      <td>2.000000</td>\n",
       "      <td>4.000000</td>\n",
       "    </tr>\n",
       "    <tr>\n",
       "      <th>max</th>\n",
       "      <td>2017.000000</td>\n",
       "      <td>12.000000</td>\n",
       "      <td>1.000000</td>\n",
       "      <td>31.000000</td>\n",
       "      <td>74.633553</td>\n",
       "      <td>1.793667e+02</td>\n",
       "      <td>1570.000000</td>\n",
       "      <td>8191.000000</td>\n",
       "      <td>9574.000000</td>\n",
       "    </tr>\n",
       "  </tbody>\n",
       "</table>\n",
       "</div>"
      ],
      "text/plain": [
       "                Year          Month       Extended            Day  \\\n",
       "count  181691.000000  181691.000000  181691.000000  181691.000000   \n",
       "mean     2002.638997       6.467277       0.045346      15.505644   \n",
       "std        13.259430       3.388303       0.208063       8.814045   \n",
       "min      1970.000000       0.000000       0.000000       0.000000   \n",
       "25%      1991.000000       4.000000       0.000000       8.000000   \n",
       "50%      2009.000000       6.000000       0.000000      15.000000   \n",
       "75%      2014.000000       9.000000       0.000000      23.000000   \n",
       "max      2017.000000      12.000000       1.000000      31.000000   \n",
       "\n",
       "            Latitude     Longitude         Killed        Wounded  \\\n",
       "count  177135.000000  1.771340e+05  181691.000000  181691.000000   \n",
       "mean       23.498343 -4.586957e+02       2.266860       2.883296   \n",
       "std        18.569242  2.047790e+05      11.227057      34.309747   \n",
       "min       -53.154613 -8.618590e+07       0.000000       0.000000   \n",
       "25%        11.510046  4.545640e+00       0.000000       0.000000   \n",
       "50%        31.467463  4.324651e+01       0.000000       0.000000   \n",
       "75%        34.685087  6.871033e+01       2.000000       2.000000   \n",
       "max        74.633553  1.793667e+02    1570.000000    8191.000000   \n",
       "\n",
       "          Casualties  \n",
       "count  181691.000000  \n",
       "mean        5.150156  \n",
       "std        40.555416  \n",
       "min         0.000000  \n",
       "25%         0.000000  \n",
       "50%         1.000000  \n",
       "75%         4.000000  \n",
       "max      9574.000000  "
      ]
     },
     "execution_count": 19,
     "metadata": {},
     "output_type": "execute_result"
    }
   ],
   "source": [
    "data.describe()"
   ]
  },
  {
   "cell_type": "code",
   "execution_count": 20,
   "id": "continent-executive",
   "metadata": {},
   "outputs": [
    {
     "data": {
      "text/html": [
       "<div>\n",
       "<style scoped>\n",
       "    .dataframe tbody tr th:only-of-type {\n",
       "        vertical-align: middle;\n",
       "    }\n",
       "\n",
       "    .dataframe tbody tr th {\n",
       "        vertical-align: top;\n",
       "    }\n",
       "\n",
       "    .dataframe thead th {\n",
       "        text-align: right;\n",
       "    }\n",
       "</style>\n",
       "<table border=\"1\" class=\"dataframe\">\n",
       "  <thead>\n",
       "    <tr style=\"text-align: right;\">\n",
       "      <th></th>\n",
       "      <th>Year</th>\n",
       "      <th>Month</th>\n",
       "      <th>Extended</th>\n",
       "      <th>Day</th>\n",
       "      <th>Latitude</th>\n",
       "      <th>Longitude</th>\n",
       "      <th>Killed</th>\n",
       "      <th>Wounded</th>\n",
       "      <th>Casualties</th>\n",
       "    </tr>\n",
       "  </thead>\n",
       "  <tbody>\n",
       "    <tr>\n",
       "      <th>Year</th>\n",
       "      <td>1.000000</td>\n",
       "      <td>0.000139</td>\n",
       "      <td>0.091754</td>\n",
       "      <td>0.018254</td>\n",
       "      <td>0.166933</td>\n",
       "      <td>0.003917</td>\n",
       "      <td>0.021252</td>\n",
       "      <td>0.017484</td>\n",
       "      <td>0.020675</td>\n",
       "    </tr>\n",
       "    <tr>\n",
       "      <th>Month</th>\n",
       "      <td>0.000139</td>\n",
       "      <td>1.000000</td>\n",
       "      <td>-0.000468</td>\n",
       "      <td>0.005497</td>\n",
       "      <td>-0.015978</td>\n",
       "      <td>-0.003880</td>\n",
       "      <td>0.004031</td>\n",
       "      <td>0.003178</td>\n",
       "      <td>0.003805</td>\n",
       "    </tr>\n",
       "    <tr>\n",
       "      <th>Extended</th>\n",
       "      <td>0.091754</td>\n",
       "      <td>-0.000468</td>\n",
       "      <td>1.000000</td>\n",
       "      <td>-0.004700</td>\n",
       "      <td>-0.024749</td>\n",
       "      <td>0.000523</td>\n",
       "      <td>0.014586</td>\n",
       "      <td>-0.010175</td>\n",
       "      <td>-0.004570</td>\n",
       "    </tr>\n",
       "    <tr>\n",
       "      <th>Day</th>\n",
       "      <td>0.018254</td>\n",
       "      <td>0.005497</td>\n",
       "      <td>-0.004700</td>\n",
       "      <td>1.000000</td>\n",
       "      <td>0.003423</td>\n",
       "      <td>-0.002285</td>\n",
       "      <td>-0.003225</td>\n",
       "      <td>-0.001082</td>\n",
       "      <td>-0.001808</td>\n",
       "    </tr>\n",
       "    <tr>\n",
       "      <th>Latitude</th>\n",
       "      <td>0.166933</td>\n",
       "      <td>-0.015978</td>\n",
       "      <td>-0.024749</td>\n",
       "      <td>0.003423</td>\n",
       "      <td>1.000000</td>\n",
       "      <td>0.001463</td>\n",
       "      <td>-0.013170</td>\n",
       "      <td>0.015920</td>\n",
       "      <td>0.009899</td>\n",
       "    </tr>\n",
       "    <tr>\n",
       "      <th>Longitude</th>\n",
       "      <td>0.003917</td>\n",
       "      <td>-0.003880</td>\n",
       "      <td>0.000523</td>\n",
       "      <td>-0.002285</td>\n",
       "      <td>0.001463</td>\n",
       "      <td>1.000000</td>\n",
       "      <td>-0.000587</td>\n",
       "      <td>0.000205</td>\n",
       "      <td>0.000013</td>\n",
       "    </tr>\n",
       "    <tr>\n",
       "      <th>Killed</th>\n",
       "      <td>0.021252</td>\n",
       "      <td>0.004031</td>\n",
       "      <td>0.014586</td>\n",
       "      <td>-0.003225</td>\n",
       "      <td>-0.013170</td>\n",
       "      <td>-0.000587</td>\n",
       "      <td>1.000000</td>\n",
       "      <td>0.443326</td>\n",
       "      <td>0.651885</td>\n",
       "    </tr>\n",
       "    <tr>\n",
       "      <th>Wounded</th>\n",
       "      <td>0.017484</td>\n",
       "      <td>0.003178</td>\n",
       "      <td>-0.010175</td>\n",
       "      <td>-0.001082</td>\n",
       "      <td>0.015920</td>\n",
       "      <td>0.000205</td>\n",
       "      <td>0.443326</td>\n",
       "      <td>1.000000</td>\n",
       "      <td>0.968724</td>\n",
       "    </tr>\n",
       "    <tr>\n",
       "      <th>Casualties</th>\n",
       "      <td>0.020675</td>\n",
       "      <td>0.003805</td>\n",
       "      <td>-0.004570</td>\n",
       "      <td>-0.001808</td>\n",
       "      <td>0.009899</td>\n",
       "      <td>0.000013</td>\n",
       "      <td>0.651885</td>\n",
       "      <td>0.968724</td>\n",
       "      <td>1.000000</td>\n",
       "    </tr>\n",
       "  </tbody>\n",
       "</table>\n",
       "</div>"
      ],
      "text/plain": [
       "                Year     Month  Extended       Day  Latitude  Longitude  \\\n",
       "Year        1.000000  0.000139  0.091754  0.018254  0.166933   0.003917   \n",
       "Month       0.000139  1.000000 -0.000468  0.005497 -0.015978  -0.003880   \n",
       "Extended    0.091754 -0.000468  1.000000 -0.004700 -0.024749   0.000523   \n",
       "Day         0.018254  0.005497 -0.004700  1.000000  0.003423  -0.002285   \n",
       "Latitude    0.166933 -0.015978 -0.024749  0.003423  1.000000   0.001463   \n",
       "Longitude   0.003917 -0.003880  0.000523 -0.002285  0.001463   1.000000   \n",
       "Killed      0.021252  0.004031  0.014586 -0.003225 -0.013170  -0.000587   \n",
       "Wounded     0.017484  0.003178 -0.010175 -0.001082  0.015920   0.000205   \n",
       "Casualties  0.020675  0.003805 -0.004570 -0.001808  0.009899   0.000013   \n",
       "\n",
       "              Killed   Wounded  Casualties  \n",
       "Year        0.021252  0.017484    0.020675  \n",
       "Month       0.004031  0.003178    0.003805  \n",
       "Extended    0.014586 -0.010175   -0.004570  \n",
       "Day        -0.003225 -0.001082   -0.001808  \n",
       "Latitude   -0.013170  0.015920    0.009899  \n",
       "Longitude  -0.000587  0.000205    0.000013  \n",
       "Killed      1.000000  0.443326    0.651885  \n",
       "Wounded     0.443326  1.000000    0.968724  \n",
       "Casualties  0.651885  0.968724    1.000000  "
      ]
     },
     "execution_count": 20,
     "metadata": {},
     "output_type": "execute_result"
    }
   ],
   "source": [
    "#checking the correlation \n",
    "data.corr()"
   ]
  },
  {
   "cell_type": "code",
   "execution_count": 21,
   "id": "increased-prophet",
   "metadata": {},
   "outputs": [
    {
     "data": {
      "image/png": "[encoded data removed]",
      "text/plain": [
       "<Figure size 720x360 with 2 Axes>"
      ]
     },
     "metadata": {
      "needs_background": "light"
     },
     "output_type": "display_data"
    }
   ],
   "source": [
    "#creating a heatmap\n",
    "plt.figure(figsize=(10,5))\n",
    "sns.heatmap(data.corr(),annot =True)\n",
    "plt.show()"
   ]
  },
  {
   "cell_type": "code",
   "execution_count": 23,
   "id": "lucky-burner",
   "metadata": {},
   "outputs": [
    {
     "data": {
      "text/plain": [
       "1971      471\n",
       "1973      473\n",
       "1972      568\n",
       "1974      581\n",
       "1970      651\n",
       "1975      740\n",
       "1976      923\n",
       "1998      934\n",
       "2004     1166\n",
       "2003     1278\n",
       "1977     1319\n",
       "2002     1333\n",
       "1999     1395\n",
       "1978     1526\n",
       "2000     1814\n",
       "2001     1906\n",
       "2005     2017\n",
       "1982     2544\n",
       "1981     2586\n",
       "1980     2662\n",
       "1979     2662\n",
       "2006     2758\n",
       "1986     2860\n",
       "1983     2870\n",
       "1985     2915\n",
       "1996     3058\n",
       "1995     3081\n",
       "1987     3183\n",
       "1997     3197\n",
       "2007     3242\n",
       "1994     3456\n",
       "1984     3495\n",
       "1988     3721\n",
       "1990     3887\n",
       "1989     4324\n",
       "1991     4683\n",
       "2009     4721\n",
       "2008     4805\n",
       "2010     4826\n",
       "1992     5071\n",
       "2011     5076\n",
       "2012     8522\n",
       "2017    10900\n",
       "2013    12036\n",
       "2016    13587\n",
       "2015    14965\n",
       "2014    16903\n",
       "Name: Year, dtype: int64"
      ]
     },
     "execution_count": 23,
     "metadata": {},
     "output_type": "execute_result"
    }
   ],
   "source": [
    "Year_data = data['Year'].value_counts().sort_values()\n",
    "#to print attack counts in all years\n",
    "Year_data"
   ]
  },
  {
   "cell_type": "code",
   "execution_count": 27,
   "id": "minor-rotation",
   "metadata": {},
   "outputs": [
    {
     "data": {
      "image/png": "[encoded data removed]",
      "text/plain": [
       "<Figure size 1296x720 with 1 Axes>"
      ]
     },
     "metadata": {
      "needs_background": "light"
     },
     "output_type": "display_data"
    }
   ],
   "source": [
    "#visualizing the data\n",
    "plt.figure(figsize=(18,10))\n",
    "sns.barplot(x= Year_data.index,y = Year_data.values)\n",
    "plt.title('Attacks in years')\n",
    "plt.xlabel('Year')\n",
    "plt.ylabel('Attacks in years')\n",
    "plt.xticks(rotation = 90)\n",
    "plt.show()"
   ]
  },
  {
   "cell_type": "markdown",
   "id": "ruled-accounting",
   "metadata": {},
   "source": [
    "# from above graph we can conclude that, most attacks happed in year 2014 "
   ]
  },
  {
   "cell_type": "markdown",
   "id": "subjective-response",
   "metadata": {},
   "source": [
    "# Countries with most attacks "
   ]
  },
  {
   "cell_type": "code",
   "execution_count": 29,
   "id": "ultimate-auckland",
   "metadata": {},
   "outputs": [
    {
     "data": {
      "text/plain": [
       "Iraq              24636\n",
       "Pakistan          14368\n",
       "Afghanistan       12731\n",
       "India             11960\n",
       "Colombia           8306\n",
       "Philippines        6908\n",
       "Peru               6096\n",
       "El Salvador        5320\n",
       "United Kingdom     5235\n",
       "Turkey             4292\n",
       "Somalia            4142\n",
       "Nigeria            3907\n",
       "Thailand           3849\n",
       "Yemen              3347\n",
       "Spain              3249\n",
       "Name: Country_Name, dtype: int64"
      ]
     },
     "execution_count": 29,
     "metadata": {},
     "output_type": "execute_result"
    }
   ],
   "source": [
    "#15 countries with most attacks\n",
    "Country_data = data['Country_Name'].value_counts().nlargest(n=15)\n",
    "Country_data"
   ]
  },
  {
   "cell_type": "code",
   "execution_count": 30,
   "id": "hydraulic-international",
   "metadata": {},
   "outputs": [
    {
     "data": {
      "image/png": "[encoded data removed]",
      "text/plain": [
       "<Figure size 1296x720 with 1 Axes>"
      ]
     },
     "metadata": {
      "needs_background": "light"
     },
     "output_type": "display_data"
    }
   ],
   "source": [
    "plt.figure(figsize=(18,10))\n",
    "sns.barplot(x= Country_data.index,y = Country_data.values)\n",
    "plt.title('Countries with most attacks')\n",
    "plt.xlabel('Countries')\n",
    "plt.ylabel('Attacks count')\n",
    "plt.xticks(rotation = 90)\n",
    "plt.show()"
   ]
  },
  {
   "cell_type": "markdown",
   "id": "genuine-gallery",
   "metadata": {},
   "source": [
    "#Top 3 Countries ith most attacks are iraq,pakistan and afghanistan"
   ]
  },
  {
   "cell_type": "markdown",
   "id": "particular-swedish",
   "metadata": {},
   "source": [
    "# State with most attacks"
   ]
  },
  {
   "cell_type": "code",
   "execution_count": 31,
   "id": "strange-narrative",
   "metadata": {},
   "outputs": [
    {
     "data": {
      "text/plain": [
       "Baghdad                                7645\n",
       "Northern Ireland                       4498\n",
       "Unknown                                4290\n",
       "Balochistan                            3710\n",
       "Saladin                                3411\n",
       "Al Anbar                               3299\n",
       "Nineveh                                3241\n",
       "Sindh                                  3206\n",
       "Khyber Pakhtunkhwa                     3084\n",
       "Diyala                                 3041\n",
       "Lima                                   2615\n",
       "Jammu and Kashmir                      2454\n",
       "Federally Administered Tribal Areas    2392\n",
       "San Salvador                           1923\n",
       "Antioquia                              1891\n",
       "Name: State, dtype: int64"
      ]
     },
     "execution_count": 31,
     "metadata": {},
     "output_type": "execute_result"
    }
   ],
   "source": [
    "#15 States with most attacks\n",
    "State_data = data['State'].value_counts().nlargest(n=15)\n",
    "State_data"
   ]
  },
  {
   "cell_type": "code",
   "execution_count": 32,
   "id": "fourth-cylinder",
   "metadata": {},
   "outputs": [
    {
     "data": {
      "image/png": "[encoded data removed]",
      "text/plain": [
       "<Figure size 1296x720 with 1 Axes>"
      ]
     },
     "metadata": {
      "needs_background": "light"
     },
     "output_type": "display_data"
    }
   ],
   "source": [
    "plt.figure(figsize=(18,10))\n",
    "sns.barplot(x= State_data.index,y = State_data.values)\n",
    "plt.title('States with most attacks')\n",
    "plt.xlabel('States')\n",
    "plt.ylabel('Attacks count')\n",
    "plt.xticks(rotation = 90)\n",
    "plt.show()"
   ]
  },
  {
   "cell_type": "markdown",
   "id": "dependent-advocate",
   "metadata": {},
   "source": [
    "Top 3 states  with most attacks are baghdad,northern and unknown state"
   ]
  },
  {
   "cell_type": "markdown",
   "id": "boxed-corruption",
   "metadata": {},
   "source": [
    "# Cites with most attacks "
   ]
  },
  {
   "cell_type": "code",
   "execution_count": 33,
   "id": "running-banner",
   "metadata": {},
   "outputs": [
    {
     "data": {
      "text/plain": [
       "Unknown         9775\n",
       "Baghdad         7589\n",
       "Karachi         2652\n",
       "Lima            2359\n",
       "Mosul           2265\n",
       "Belfast         2171\n",
       "Santiago        1621\n",
       "Mogadishu       1581\n",
       "San Salvador    1558\n",
       "Istanbul        1048\n",
       "Athens          1019\n",
       "Bogota           984\n",
       "Kirkuk           925\n",
       "Beirut           918\n",
       "Medellin         848\n",
       "Name: City, dtype: int64"
      ]
     },
     "execution_count": 33,
     "metadata": {},
     "output_type": "execute_result"
    }
   ],
   "source": [
    "#15 cities with most attacks\n",
    "City_data = data['City'].value_counts().nlargest(n=15)\n",
    "City_data"
   ]
  },
  {
   "cell_type": "code",
   "execution_count": 34,
   "id": "junior-leonard",
   "metadata": {},
   "outputs": [
    {
     "data": {
      "image/png": "[encoded data removed]",
      "text/plain": [
       "<Figure size 1296x720 with 1 Axes>"
      ]
     },
     "metadata": {
      "needs_background": "light"
     },
     "output_type": "display_data"
    }
   ],
   "source": [
    "plt.figure(figsize=(18,10))\n",
    "sns.barplot(x= City_data.index,y = City_data.values)\n",
    "plt.title('Cities with most attacks')\n",
    "plt.xlabel('Cities')\n",
    "plt.ylabel('Attacks count')\n",
    "plt.xticks(rotation = 90)\n",
    "plt.show()"
   ]
  },
  {
   "cell_type": "markdown",
   "id": "classical-saudi",
   "metadata": {},
   "source": [
    "Top 3 Cities  with most attacks are unknown city,baghdad and karachi"
   ]
  },
  {
   "cell_type": "markdown",
   "id": "innovative-bailey",
   "metadata": {},
   "source": [
    "# Region with most attacks"
   ]
  },
  {
   "cell_type": "code",
   "execution_count": 35,
   "id": "indoor-update",
   "metadata": {},
   "outputs": [
    {
     "data": {
      "text/plain": [
       "Middle East & North Africa     50474\n",
       "South Asia                     44974\n",
       "South America                  18978\n",
       "Sub-Saharan Africa             17550\n",
       "Western Europe                 16639\n",
       "Southeast Asia                 12485\n",
       "Central America & Caribbean    10344\n",
       "Eastern Europe                  5144\n",
       "North America                   3456\n",
       "East Asia                        802\n",
       "Central Asia                     563\n",
       "Australasia & Oceania            282\n",
       "Name: Region, dtype: int64"
      ]
     },
     "execution_count": 35,
     "metadata": {},
     "output_type": "execute_result"
    }
   ],
   "source": [
    "#15 Regions with most attacks\n",
    "Region_data = data['Region'].value_counts().nlargest(n=15)\n",
    "Region_data"
   ]
  },
  {
   "cell_type": "code",
   "execution_count": 36,
   "id": "closed-rachel",
   "metadata": {},
   "outputs": [
    {
     "data": {
      "image/png": "[encoded data removed]",
      "text/plain": [
       "<Figure size 1296x720 with 1 Axes>"
      ]
     },
     "metadata": {
      "needs_background": "light"
     },
     "output_type": "display_data"
    }
   ],
   "source": [
    "plt.figure(figsize=(18,10))\n",
    "sns.barplot(x= Region_data.index,y = Region_data.values)\n",
    "plt.title('Region with most attacks')\n",
    "plt.xlabel('Region')\n",
    "plt.ylabel('Attacks count')\n",
    "plt.xticks(rotation = 90)\n",
    "plt.show()"
   ]
  },
  {
   "cell_type": "markdown",
   "id": "removable-assurance",
   "metadata": {},
   "source": [
    "Top 3 Region with most attacks are Middle East&North Africa,South Asia and South America"
   ]
  },
  {
   "cell_type": "markdown",
   "id": "disabled-hometown",
   "metadata": {},
   "source": [
    "# Most used attack type"
   ]
  },
  {
   "cell_type": "code",
   "execution_count": 37,
   "id": "supreme-kelly",
   "metadata": {},
   "outputs": [
    {
     "data": {
      "text/plain": [
       "Bombing/Explosion                      88255\n",
       "Armed Assault                          42669\n",
       "Assassination                          19312\n",
       "Hostage Taking (Kidnapping)            11158\n",
       "Facility/Infrastructure Attack         10356\n",
       "Unknown                                 7276\n",
       "Unarmed Assault                         1015\n",
       "Hostage Taking (Barricade Incident)      991\n",
       "Hijacking                                659\n",
       "Name: AttackType, dtype: int64"
      ]
     },
     "execution_count": 37,
     "metadata": {},
     "output_type": "execute_result"
    }
   ],
   "source": [
    "# most frequent attack type\n",
    "Attack_data = data['AttackType'].value_counts()\n",
    "Attack_data"
   ]
  },
  {
   "cell_type": "code",
   "execution_count": 38,
   "id": "linear-fairy",
   "metadata": {},
   "outputs": [
    {
     "data": {
      "image/png": "[encoded data removed]",
      "text/plain": [
       "<Figure size 1296x720 with 1 Axes>"
      ]
     },
     "metadata": {
      "needs_background": "light"
     },
     "output_type": "display_data"
    }
   ],
   "source": [
    "plt.figure(figsize=(18,10))\n",
    "sns.barplot(x= Attack_data.index,y = Attack_data.values)\n",
    "plt.title('Most Used Attacks Type')\n",
    "plt.xlabel('Attack Type')\n",
    "plt.ylabel('Attacks count')\n",
    "plt.xticks(rotation = 90)\n",
    "plt.show()"
   ]
  },
  {
   "cell_type": "markdown",
   "id": "cubic-parks",
   "metadata": {},
   "source": [
    "Bombing/Explossion is the most used attack type"
   ]
  },
  {
   "cell_type": "markdown",
   "id": "bearing-nirvana",
   "metadata": {},
   "source": [
    "# Most Frequent Terrorist Groups involved in attacks"
   ]
  },
  {
   "cell_type": "code",
   "execution_count": 39,
   "id": "toxic-venezuela",
   "metadata": {},
   "outputs": [
    {
     "data": {
      "text/plain": [
       "Unknown                                             82782\n",
       "Taliban                                              7478\n",
       "Islamic State of Iraq and the Levant (ISIL)          5613\n",
       "Shining Path (SL)                                    4555\n",
       "Farabundo Marti National Liberation Front (FMLN)     3351\n",
       "Al-Shabaab                                           3288\n",
       "New People's Army (NPA)                              2772\n",
       "Irish Republican Army (IRA)                          2671\n",
       "Revolutionary Armed Forces of Colombia (FARC)        2487\n",
       "Boko Haram                                           2418\n",
       "Kurdistan Workers' Party (PKK)                       2310\n",
       "Basque Fatherland and Freedom (ETA)                  2024\n",
       "Communist Party of India - Maoist (CPI-Maoist)       1878\n",
       "Maoists                                              1630\n",
       "Liberation Tigers of Tamil Eelam (LTTE)              1606\n",
       "Name: Group, dtype: int64"
      ]
     },
     "execution_count": 39,
     "metadata": {},
     "output_type": "execute_result"
    }
   ],
   "source": [
    "Group_data = data['Group'].value_counts().nlargest(n=15)\n",
    "Group_data"
   ]
  },
  {
   "cell_type": "code",
   "execution_count": 40,
   "id": "prescribed-appreciation",
   "metadata": {},
   "outputs": [
    {
     "data": {
      "image/png": "[encoded data removed]",
      "text/plain": [
       "<Figure size 1296x720 with 1 Axes>"
      ]
     },
     "metadata": {
      "needs_background": "light"
     },
     "output_type": "display_data"
    }
   ],
   "source": [
    "plt.figure(figsize=(18,10))\n",
    "sns.barplot(x= Group_data.index,y = Group_data.values)\n",
    "plt.title('Most Frequent Terrorist Groups involved in Attacks ')\n",
    "plt.xlabel('Groups')\n",
    "plt.ylabel('Attacks count')\n",
    "plt.xticks(rotation = 90)\n",
    "plt.show()"
   ]
  },
  {
   "cell_type": "markdown",
   "id": "handy-laugh",
   "metadata": {},
   "source": [
    "Most Frequent Terrorist Group involved in Attacks is Taliban(first is Unknown)"
   ]
  },
  {
   "cell_type": "markdown",
   "id": "composite-polyester",
   "metadata": {},
   "source": [
    "# Most Used Weapon Type "
   ]
  },
  {
   "cell_type": "code",
   "execution_count": 44,
   "id": "practical-cambridge",
   "metadata": {},
   "outputs": [
    {
     "data": {
      "text/plain": [
       "Explosives                                                                     92426\n",
       "Firearms                                                                       58524\n",
       "Unknown                                                                        15157\n",
       "Incendiary                                                                     11135\n",
       "Melee                                                                           3655\n",
       "Chemical                                                                         321\n",
       "Sabotage Equipment                                                               141\n",
       "Vehicle (not to include vehicle-borne explosives, i.e., car or truck bombs)      136\n",
       "Other                                                                            114\n",
       "Biological                                                                        35\n",
       "Fake Weapons                                                                      33\n",
       "Radiological                                                                      14\n",
       "Name: Weapon_type, dtype: int64"
      ]
     },
     "execution_count": 44,
     "metadata": {},
     "output_type": "execute_result"
    }
   ],
   "source": [
    "Weapon_data = data['Weapon_type'].value_counts().nlargest(n=15)\n",
    "Weapon_data"
   ]
  },
  {
   "cell_type": "code",
   "execution_count": 45,
   "id": "minor-distance",
   "metadata": {},
   "outputs": [
    {
     "data": {
      "image/png": "[encoded data removed]",
      "text/plain": [
       "<Figure size 1296x720 with 1 Axes>"
      ]
     },
     "metadata": {
      "needs_background": "light"
     },
     "output_type": "display_data"
    }
   ],
   "source": [
    "plt.figure(figsize=(18,10))\n",
    "sns.barplot(x= Weapon_data.index,y = Weapon_data.values)\n",
    "plt.title('Most Used Weapon type is Explosives ')\n",
    "plt.xlabel('Weapon Type')\n",
    "plt.ylabel('Attacks count')\n",
    "plt.xticks(rotation = 90)\n",
    "plt.show()"
   ]
  },
  {
   "cell_type": "markdown",
   "id": "nonprofit-referral",
   "metadata": {},
   "source": [
    "Most Used Weapon type is Explosives "
   ]
  },
  {
   "cell_type": "markdown",
   "id": "knowing-employment",
   "metadata": {},
   "source": [
    "# Wounded Vs Killed Visualization\n"
   ]
  },
  {
   "cell_type": "code",
   "execution_count": 48,
   "id": "broadband-cream",
   "metadata": {},
   "outputs": [
    {
     "data": {
      "image/png": "[encoded data removed]",
      "text/plain": [
       "<Figure size 1080x504 with 1 Axes>"
      ]
     },
     "metadata": {
      "needs_background": "light"
     },
     "output_type": "display_data"
    }
   ],
   "source": [
    "#Wounded Vs Killed with respect to year\n",
    "Casualty = data.groupby('Year').sum()['Casualties'].nlargest(n=15) #top 15 States with highest Sales\n",
    "killed = data.groupby('Year').sum()['Killed'].nlargest(n=15) #top 15 States with highest Sales\n",
    "#plt.style.use('seabarn')\n",
    "Casualty.plot(kind='bar',figsize=(15,7),fontsize = 10 , color = 'lightgreen', label = 'Wounded')\n",
    "killed.plot(kind = 'bar', figsize=(15,7),fontsize = 10, color = 'purple', label = 'Killed')\n",
    "plt.xlabel('Year',fontsize =15)\n",
    "plt.legend()\n",
    "plt.ylabel('Total Wounded and Killed', fontsize = 15)\n",
    "plt.title('Wounded Vs Killed', fontsize = 15)\n",
    "plt.show()"
   ]
  },
  {
   "cell_type": "code",
   "execution_count": 50,
   "id": "delayed-marsh",
   "metadata": {},
   "outputs": [
    {
     "data": {
      "image/png": "[encoded data removed]",
      "text/plain": [
       "<Figure size 1080x504 with 1 Axes>"
      ]
     },
     "metadata": {
      "needs_background": "light"
     },
     "output_type": "display_data"
    }
   ],
   "source": [
    "#Wounded Vs Killed with respect to Region\n",
    "Casualty = data.groupby('Region').sum()['Casualties'].nlargest(n=15)# top 15 states with highest sales\n",
    "killed = data.groupby('Region').sum()['Killed'].nlargest(n=15) #top 15 States with highest Sales\n",
    "#plt.style.use('seabarn')\n",
    "Casualty.plot(kind='bar',figsize=(15,7),fontsize = 10 , color = 'red', label = 'Wounded')\n",
    "killed.plot(kind = 'bar', figsize=(15,7),fontsize = 10, color = 'orange', label = 'Killed')\n",
    "plt.xlabel('Region',fontsize =15)\n",
    "plt.legend()\n",
    "plt.ylabel('Total Wounded and Killed', fontsize = 15)\n",
    "plt.title('Wounded Vs Killed', fontsize = 15)\n",
    "plt.show()"
   ]
  },
  {
   "cell_type": "markdown",
   "id": "impaired-boards",
   "metadata": {},
   "source": [
    "# Conclusion:"
   ]
  },
  {
   "cell_type": "markdown",
   "id": "located-homeless",
   "metadata": {},
   "source": [
    "# Hot zones are:\n",
    "    >Top 3 countries with most attacks are Iraq,Pakistan and Afganistan.\n",
    "    >Top 3 states with most attacks are Baghdad,Northen Ireland and Unknown state.\n",
    "    >Top 3 cities with most attacks are Unknown city,Baghdad and Karachi.\n",
    "    >Top 3 region with most attacks are Middle East & North Africa,South Asia and South America.\n",
    "    >Year with most attacks is 2014.\n",
    "    >Most frequent space terrorist groups involved in attacks are Taliban and Islamic state of Iraq and the Levant(Isil). \n"
   ]
  },
  {
   "cell_type": "code",
   "execution_count": null,
   "id": "asian-typing",
   "metadata": {},
   "outputs": [],
   "source": []
  }
 ],
 "metadata": {
  "kernelspec": {
   "display_name": "Python 3",
   "language": "python",
   "name": "python3"
  },
  "language_info": {
   "codemirror_mode": {
    "name": "ipython",
    "version": 3
   },
   "file_extension": ".py",
   "mimetype": "text/x-python",
   "name": "python",
   "nbconvert_exporter": "python",
   "pygments_lexer": "ipython3",
   "version": "3.8.5"
  }
 },
 "nbformat": 4,
 "nbformat_minor": 5
}
